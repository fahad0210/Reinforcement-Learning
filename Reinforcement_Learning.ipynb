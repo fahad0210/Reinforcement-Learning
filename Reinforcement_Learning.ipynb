{
  "nbformat": 4,
  "nbformat_minor": 0,
  "metadata": {
    "colab": {
      "name": "Reinforcement Learning.ipynb",
      "provenance": []
    },
    "kernelspec": {
      "name": "python3",
      "display_name": "Python 3"
    }
  },
  "cells": [
    {
      "cell_type": "markdown",
      "metadata": {
        "id": "hQU2m1JuVPFP",
        "colab_type": "text"
      },
      "source": [
        "#Thompson Sampling & Upper Confidence Bound"
      ]
    },
    {
      "cell_type": "code",
      "metadata": {
        "id": "P6VoipxRH6mb",
        "colab_type": "code",
        "colab": {}
      },
      "source": [
        "import numpy as np\n",
        "import matplotlib.pyplot as plt\n",
        "import pandas as pd\n",
        "\n",
        "Dataset = pd.read_csv('Ads.csv')"
      ],
      "execution_count": 56,
      "outputs": []
    },
    {
      "cell_type": "markdown",
      "metadata": {
        "id": "d5D-dlFzJjEi",
        "colab_type": "text"
      },
      "source": [
        "#Thompson Sampling Algo"
      ]
    },
    {
      "cell_type": "code",
      "metadata": {
        "id": "8Rn4YQTDJOCS",
        "colab_type": "code",
        "colab": {}
      },
      "source": [
        "import random\n",
        "N1 = 10000\n",
        "d1 = 10\n",
        "f = []\n",
        "P1 = [0] * d1\n",
        "P0 = [0] * d1\n",
        "Total_1 = 0\n",
        "\n",
        "for i in range(0, N1):\n",
        "  ad_1 = 0\n",
        "  rand_max = 0\n",
        "  for j in range(0, d1):\n",
        "    rand = random.betavariate(P1[j] + 1, P0[j] + 1)\n",
        "    if (rand > rand_max):\n",
        "      rand_max = rand\n",
        "      ad_1 = j\n",
        "\n",
        "  f.append(ad_1)\n",
        "  P = Dataset.values[i, ad_1]\n",
        "\n",
        "  if (P == 1):\n",
        "    P1[ad_1] = P1[ad_1] + 1\n",
        "  else:\n",
        "    P0[ad_1] = P0[ad_1] + 1\n",
        "\n",
        "  Total_1 = Total_1 + P"
      ],
      "execution_count": 57,
      "outputs": []
    },
    {
      "cell_type": "code",
      "metadata": {
        "id": "4RBHqLVLKJHj",
        "colab_type": "code",
        "colab": {
          "base_uri": "https://localhost:8080/",
          "height": 295
        },
        "outputId": "87f9f75b-d571-4d90-fdd0-815e1af5f0fe"
      },
      "source": [
        "plt.hist(f)\n",
        "plt.title('Histogram')\n",
        "plt.xlabel('Ads')\n",
        "plt.ylabel('Number of times ad was selected')\n",
        "plt.show()"
      ],
      "execution_count": 58,
      "outputs": [
        {
          "output_type": "display_data",
          "data": {
            "image/png": "[encoded data removed]",
            "text/plain": [
              "<Figure size 432x288 with 1 Axes>"
            ]
          },
          "metadata": {
            "tags": [],
            "needs_background": "light"
          }
        }
      ]
    },
    {
      "cell_type": "markdown",
      "metadata": {
        "id": "fJB0SEV1Pr2P",
        "colab_type": "text"
      },
      "source": [
        "#Upper Confidence Bound Algo"
      ]
    },
    {
      "cell_type": "code",
      "metadata": {
        "id": "un5q5z1iLetS",
        "colab_type": "code",
        "colab": {}
      },
      "source": [
        "import math\n",
        "N2 = 10000\n",
        "d2 = 10\n",
        "Z = []\n",
        "#Number of Selections\n",
        "Q1 = [0] * d\n",
        "\n",
        "#Sum of Rewards\n",
        "Q2 = [0] * d\n",
        "\n",
        "Total_2 = 0\n",
        "for i in range(0, N2):\n",
        "  ad_2 = 0\n",
        "  upper_bound_max = 0\n",
        "\n",
        "  for j in range(0, d2):\n",
        "    if (Q1[j] > 0):\n",
        "      Avg = Q2[j] / Q1[j]\n",
        "      delta = math.sqrt(3/2 * math.log(i + 1) / Q1[j])\n",
        "      upper_bound = Avg + delta\n",
        "    else:\n",
        "      upper_bound = 1e400\n",
        "\n",
        "    if (upper_bound > upper_bound_max):\n",
        "      upper_bound_max = upper_bound\n",
        "      ad_2 = j\n",
        "\n",
        "  Z.append(ad_2)\n",
        "\n",
        "  Q1[ad_2] = Q1[ad_2] + 1\n",
        "  Q = Dataset.values[i, ad_2]\n",
        "  Q2[ad_2] = Q2[ad_2] + Q\n",
        "  Total_2 = Total_2 + Q"
      ],
      "execution_count": 59,
      "outputs": []
    },
    {
      "cell_type": "code",
      "metadata": {
        "id": "eBxJFfh8RNmP",
        "colab_type": "code",
        "colab": {
          "base_uri": "https://localhost:8080/",
          "height": 295
        },
        "outputId": "54744a94-90c9-402f-842c-3a4fbb9a82c6"
      },
      "source": [
        "plt.hist(Z)\n",
        "plt.title('Histogram')\n",
        "plt.xlabel('Ads')\n",
        "plt.ylabel('Number of times ad was selected')\n",
        "plt.show()"
      ],
      "execution_count": 60,
      "outputs": [
        {
          "output_type": "display_data",
          "data": {
            "image/png": "[encoded data removed]",
            "text/plain": [
              "<Figure size 432x288 with 1 Axes>"
            ]
          },
          "metadata": {
            "tags": [],
            "needs_background": "light"
          }
        }
      ]
    }
  ]
}